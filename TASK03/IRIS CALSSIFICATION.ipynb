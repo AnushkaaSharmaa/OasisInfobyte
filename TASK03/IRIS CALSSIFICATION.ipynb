{
 "cells": [
  {
   "cell_type": "markdown",
   "id": "3fec805e",
   "metadata": {},
   "source": [
    "# IRIS FLOWER CLASSIFICATION"
   ]
  },
  {
   "cell_type": "code",
   "execution_count": 1,
   "id": "68997c75",
   "metadata": {},
   "outputs": [],
   "source": [
    "import pandas as pd\n",
    "import numpy as np\n",
    "import matplotlib.pyplot as plt\n",
    "import seaborn as sns"
   ]
  },
  {
   "cell_type": "markdown",
   "id": "733c4f56",
   "metadata": {},
   "source": [
    "# Read the CSV file "
   ]
  },
  {
   "cell_type": "code",
   "execution_count": 2,
   "id": "947fada3",
   "metadata": {},
   "outputs": [],
   "source": [
    "iris_df=pd.read_csv(\"C:\\\\Users\\\\anush\\\\Downloads\\\\archive (3)\\\\Iris.csv\")\n"
   ]
  },
  {
   "cell_type": "markdown",
   "id": "587345ed",
   "metadata": {},
   "source": [
    "# Describing the dataset "
   ]
  },
  {
   "cell_type": "code",
   "execution_count": 3,
   "id": "566ac732",
   "metadata": {},
   "outputs": [
    {
     "data": {
      "text/html": [
       "<div>\n",
       "<style scoped>\n",
       "    .dataframe tbody tr th:only-of-type {\n",
       "        vertical-align: middle;\n",
       "    }\n",
       "\n",
       "    .dataframe tbody tr th {\n",
       "        vertical-align: top;\n",
       "    }\n",
       "\n",
       "    .dataframe thead th {\n",
       "        text-align: right;\n",
       "    }\n",
       "</style>\n",
       "<table border=\"1\" class=\"dataframe\">\n",
       "  <thead>\n",
       "    <tr style=\"text-align: right;\">\n",
       "      <th></th>\n",
       "      <th>Id</th>\n",
       "      <th>SepalLengthCm</th>\n",
       "      <th>SepalWidthCm</th>\n",
       "      <th>PetalLengthCm</th>\n",
       "      <th>PetalWidthCm</th>\n",
       "      <th>Species</th>\n",
       "    </tr>\n",
       "  </thead>\n",
       "  <tbody>\n",
       "    <tr>\n",
       "      <th>0</th>\n",
       "      <td>1</td>\n",
       "      <td>5.1</td>\n",
       "      <td>3.5</td>\n",
       "      <td>1.4</td>\n",
       "      <td>0.2</td>\n",
       "      <td>Iris-setosa</td>\n",
       "    </tr>\n",
       "    <tr>\n",
       "      <th>1</th>\n",
       "      <td>2</td>\n",
       "      <td>4.9</td>\n",
       "      <td>3.0</td>\n",
       "      <td>1.4</td>\n",
       "      <td>0.2</td>\n",
       "      <td>Iris-setosa</td>\n",
       "    </tr>\n",
       "    <tr>\n",
       "      <th>2</th>\n",
       "      <td>3</td>\n",
       "      <td>4.7</td>\n",
       "      <td>3.2</td>\n",
       "      <td>1.3</td>\n",
       "      <td>0.2</td>\n",
       "      <td>Iris-setosa</td>\n",
       "    </tr>\n",
       "    <tr>\n",
       "      <th>3</th>\n",
       "      <td>4</td>\n",
       "      <td>4.6</td>\n",
       "      <td>3.1</td>\n",
       "      <td>1.5</td>\n",
       "      <td>0.2</td>\n",
       "      <td>Iris-setosa</td>\n",
       "    </tr>\n",
       "    <tr>\n",
       "      <th>4</th>\n",
       "      <td>5</td>\n",
       "      <td>5.0</td>\n",
       "      <td>3.6</td>\n",
       "      <td>1.4</td>\n",
       "      <td>0.2</td>\n",
       "      <td>Iris-setosa</td>\n",
       "    </tr>\n",
       "  </tbody>\n",
       "</table>\n",
       "</div>"
      ],
      "text/plain": [
       "   Id  SepalLengthCm  SepalWidthCm  PetalLengthCm  PetalWidthCm      Species\n",
       "0   1            5.1           3.5            1.4           0.2  Iris-setosa\n",
       "1   2            4.9           3.0            1.4           0.2  Iris-setosa\n",
       "2   3            4.7           3.2            1.3           0.2  Iris-setosa\n",
       "3   4            4.6           3.1            1.5           0.2  Iris-setosa\n",
       "4   5            5.0           3.6            1.4           0.2  Iris-setosa"
      ]
     },
     "execution_count": 3,
     "metadata": {},
     "output_type": "execute_result"
    }
   ],
   "source": [
    "iris_df.head()\n"
   ]
  },
  {
   "cell_type": "code",
   "execution_count": 4,
   "id": "e32c3ac9",
   "metadata": {},
   "outputs": [
    {
     "data": {
      "text/plain": [
       "(150, 6)"
      ]
     },
     "execution_count": 4,
     "metadata": {},
     "output_type": "execute_result"
    }
   ],
   "source": [
    "iris_df.shape\n"
   ]
  },
  {
   "cell_type": "code",
   "execution_count": 5,
   "id": "2b65ef04",
   "metadata": {},
   "outputs": [
    {
     "name": "stdout",
     "output_type": "stream",
     "text": [
      "<class 'pandas.core.frame.DataFrame'>\n",
      "RangeIndex: 150 entries, 0 to 149\n",
      "Data columns (total 6 columns):\n",
      " #   Column         Non-Null Count  Dtype  \n",
      "---  ------         --------------  -----  \n",
      " 0   Id             150 non-null    int64  \n",
      " 1   SepalLengthCm  150 non-null    float64\n",
      " 2   SepalWidthCm   150 non-null    float64\n",
      " 3   PetalLengthCm  150 non-null    float64\n",
      " 4   PetalWidthCm   150 non-null    float64\n",
      " 5   Species        150 non-null    object \n",
      "dtypes: float64(4), int64(1), object(1)\n",
      "memory usage: 7.2+ KB\n"
     ]
    }
   ],
   "source": [
    "iris_df.info()\n"
   ]
  },
  {
   "cell_type": "code",
   "execution_count": 6,
   "id": "0e6548f4",
   "metadata": {},
   "outputs": [
    {
     "data": {
      "text/html": [
       "<div>\n",
       "<style scoped>\n",
       "    .dataframe tbody tr th:only-of-type {\n",
       "        vertical-align: middle;\n",
       "    }\n",
       "\n",
       "    .dataframe tbody tr th {\n",
       "        vertical-align: top;\n",
       "    }\n",
       "\n",
       "    .dataframe thead th {\n",
       "        text-align: right;\n",
       "    }\n",
       "</style>\n",
       "<table border=\"1\" class=\"dataframe\">\n",
       "  <thead>\n",
       "    <tr style=\"text-align: right;\">\n",
       "      <th></th>\n",
       "      <th>Id</th>\n",
       "      <th>SepalLengthCm</th>\n",
       "      <th>SepalWidthCm</th>\n",
       "      <th>PetalLengthCm</th>\n",
       "      <th>PetalWidthCm</th>\n",
       "    </tr>\n",
       "  </thead>\n",
       "  <tbody>\n",
       "    <tr>\n",
       "      <th>count</th>\n",
       "      <td>150.000000</td>\n",
       "      <td>150.000000</td>\n",
       "      <td>150.000000</td>\n",
       "      <td>150.000000</td>\n",
       "      <td>150.000000</td>\n",
       "    </tr>\n",
       "    <tr>\n",
       "      <th>mean</th>\n",
       "      <td>75.500000</td>\n",
       "      <td>5.843333</td>\n",
       "      <td>3.054000</td>\n",
       "      <td>3.758667</td>\n",
       "      <td>1.198667</td>\n",
       "    </tr>\n",
       "    <tr>\n",
       "      <th>std</th>\n",
       "      <td>43.445368</td>\n",
       "      <td>0.828066</td>\n",
       "      <td>0.433594</td>\n",
       "      <td>1.764420</td>\n",
       "      <td>0.763161</td>\n",
       "    </tr>\n",
       "    <tr>\n",
       "      <th>min</th>\n",
       "      <td>1.000000</td>\n",
       "      <td>4.300000</td>\n",
       "      <td>2.000000</td>\n",
       "      <td>1.000000</td>\n",
       "      <td>0.100000</td>\n",
       "    </tr>\n",
       "    <tr>\n",
       "      <th>25%</th>\n",
       "      <td>38.250000</td>\n",
       "      <td>5.100000</td>\n",
       "      <td>2.800000</td>\n",
       "      <td>1.600000</td>\n",
       "      <td>0.300000</td>\n",
       "    </tr>\n",
       "    <tr>\n",
       "      <th>50%</th>\n",
       "      <td>75.500000</td>\n",
       "      <td>5.800000</td>\n",
       "      <td>3.000000</td>\n",
       "      <td>4.350000</td>\n",
       "      <td>1.300000</td>\n",
       "    </tr>\n",
       "    <tr>\n",
       "      <th>75%</th>\n",
       "      <td>112.750000</td>\n",
       "      <td>6.400000</td>\n",
       "      <td>3.300000</td>\n",
       "      <td>5.100000</td>\n",
       "      <td>1.800000</td>\n",
       "    </tr>\n",
       "    <tr>\n",
       "      <th>max</th>\n",
       "      <td>150.000000</td>\n",
       "      <td>7.900000</td>\n",
       "      <td>4.400000</td>\n",
       "      <td>6.900000</td>\n",
       "      <td>2.500000</td>\n",
       "    </tr>\n",
       "  </tbody>\n",
       "</table>\n",
       "</div>"
      ],
      "text/plain": [
       "               Id  SepalLengthCm  SepalWidthCm  PetalLengthCm  PetalWidthCm\n",
       "count  150.000000     150.000000    150.000000     150.000000    150.000000\n",
       "mean    75.500000       5.843333      3.054000       3.758667      1.198667\n",
       "std     43.445368       0.828066      0.433594       1.764420      0.763161\n",
       "min      1.000000       4.300000      2.000000       1.000000      0.100000\n",
       "25%     38.250000       5.100000      2.800000       1.600000      0.300000\n",
       "50%     75.500000       5.800000      3.000000       4.350000      1.300000\n",
       "75%    112.750000       6.400000      3.300000       5.100000      1.800000\n",
       "max    150.000000       7.900000      4.400000       6.900000      2.500000"
      ]
     },
     "execution_count": 6,
     "metadata": {},
     "output_type": "execute_result"
    }
   ],
   "source": [
    "iris_df.describe()\n"
   ]
  },
  {
   "cell_type": "code",
   "execution_count": 7,
   "id": "750fba5a",
   "metadata": {},
   "outputs": [
    {
     "data": {
      "text/plain": [
       "Id               0\n",
       "SepalLengthCm    0\n",
       "SepalWidthCm     0\n",
       "PetalLengthCm    0\n",
       "PetalWidthCm     0\n",
       "Species          0\n",
       "dtype: int64"
      ]
     },
     "execution_count": 7,
     "metadata": {},
     "output_type": "execute_result"
    }
   ],
   "source": [
    "iris_df.isnull()\n",
    "iris_df.isnull().sum()\n"
   ]
  },
  {
   "cell_type": "markdown",
   "id": "16f3266e",
   "metadata": {},
   "source": [
    "# Cleaning  & Preprocessing"
   ]
  },
  {
   "cell_type": "code",
   "execution_count": 8,
   "id": "4d1a3fa6",
   "metadata": {},
   "outputs": [
    {
     "data": {
      "text/plain": [
       "Index(['Id', 'SepalLengthCm', 'SepalWidthCm', 'PetalLengthCm', 'PetalWidthCm',\n",
       "       'Species'],\n",
       "      dtype='object')"
      ]
     },
     "execution_count": 8,
     "metadata": {},
     "output_type": "execute_result"
    }
   ],
   "source": [
    "iris_df.columns\n"
   ]
  },
  {
   "cell_type": "code",
   "execution_count": 9,
   "id": "b11485ef",
   "metadata": {},
   "outputs": [
    {
     "data": {
      "text/html": [
       "<div>\n",
       "<style scoped>\n",
       "    .dataframe tbody tr th:only-of-type {\n",
       "        vertical-align: middle;\n",
       "    }\n",
       "\n",
       "    .dataframe tbody tr th {\n",
       "        vertical-align: top;\n",
       "    }\n",
       "\n",
       "    .dataframe thead th {\n",
       "        text-align: right;\n",
       "    }\n",
       "</style>\n",
       "<table border=\"1\" class=\"dataframe\">\n",
       "  <thead>\n",
       "    <tr style=\"text-align: right;\">\n",
       "      <th></th>\n",
       "      <th>SepalLengthCm</th>\n",
       "      <th>SepalWidthCm</th>\n",
       "      <th>PetalLengthCm</th>\n",
       "      <th>PetalWidthCm</th>\n",
       "      <th>Species</th>\n",
       "    </tr>\n",
       "  </thead>\n",
       "  <tbody>\n",
       "    <tr>\n",
       "      <th>0</th>\n",
       "      <td>5.1</td>\n",
       "      <td>3.5</td>\n",
       "      <td>1.4</td>\n",
       "      <td>0.2</td>\n",
       "      <td>Iris-setosa</td>\n",
       "    </tr>\n",
       "    <tr>\n",
       "      <th>1</th>\n",
       "      <td>4.9</td>\n",
       "      <td>3.0</td>\n",
       "      <td>1.4</td>\n",
       "      <td>0.2</td>\n",
       "      <td>Iris-setosa</td>\n",
       "    </tr>\n",
       "    <tr>\n",
       "      <th>2</th>\n",
       "      <td>4.7</td>\n",
       "      <td>3.2</td>\n",
       "      <td>1.3</td>\n",
       "      <td>0.2</td>\n",
       "      <td>Iris-setosa</td>\n",
       "    </tr>\n",
       "    <tr>\n",
       "      <th>3</th>\n",
       "      <td>4.6</td>\n",
       "      <td>3.1</td>\n",
       "      <td>1.5</td>\n",
       "      <td>0.2</td>\n",
       "      <td>Iris-setosa</td>\n",
       "    </tr>\n",
       "    <tr>\n",
       "      <th>4</th>\n",
       "      <td>5.0</td>\n",
       "      <td>3.6</td>\n",
       "      <td>1.4</td>\n",
       "      <td>0.2</td>\n",
       "      <td>Iris-setosa</td>\n",
       "    </tr>\n",
       "  </tbody>\n",
       "</table>\n",
       "</div>"
      ],
      "text/plain": [
       "   SepalLengthCm  SepalWidthCm  PetalLengthCm  PetalWidthCm      Species\n",
       "0            5.1           3.5            1.4           0.2  Iris-setosa\n",
       "1            4.9           3.0            1.4           0.2  Iris-setosa\n",
       "2            4.7           3.2            1.3           0.2  Iris-setosa\n",
       "3            4.6           3.1            1.5           0.2  Iris-setosa\n",
       "4            5.0           3.6            1.4           0.2  Iris-setosa"
      ]
     },
     "execution_count": 9,
     "metadata": {},
     "output_type": "execute_result"
    }
   ],
   "source": [
    "iris_df=iris_df.drop(['Id'], axis=1)\n",
    "iris_df.head()\n"
   ]
  },
  {
   "cell_type": "code",
   "execution_count": 10,
   "id": "01061f68",
   "metadata": {},
   "outputs": [
    {
     "data": {
      "text/html": [
       "<div>\n",
       "<style scoped>\n",
       "    .dataframe tbody tr th:only-of-type {\n",
       "        vertical-align: middle;\n",
       "    }\n",
       "\n",
       "    .dataframe tbody tr th {\n",
       "        vertical-align: top;\n",
       "    }\n",
       "\n",
       "    .dataframe thead th {\n",
       "        text-align: right;\n",
       "    }\n",
       "</style>\n",
       "<table border=\"1\" class=\"dataframe\">\n",
       "  <thead>\n",
       "    <tr style=\"text-align: right;\">\n",
       "      <th></th>\n",
       "      <th>sepal_length</th>\n",
       "      <th>sepal_width</th>\n",
       "      <th>petal_length</th>\n",
       "      <th>petal_width</th>\n",
       "      <th>species</th>\n",
       "    </tr>\n",
       "  </thead>\n",
       "  <tbody>\n",
       "    <tr>\n",
       "      <th>0</th>\n",
       "      <td>5.1</td>\n",
       "      <td>3.5</td>\n",
       "      <td>1.4</td>\n",
       "      <td>0.2</td>\n",
       "      <td>Iris-setosa</td>\n",
       "    </tr>\n",
       "    <tr>\n",
       "      <th>1</th>\n",
       "      <td>4.9</td>\n",
       "      <td>3.0</td>\n",
       "      <td>1.4</td>\n",
       "      <td>0.2</td>\n",
       "      <td>Iris-setosa</td>\n",
       "    </tr>\n",
       "    <tr>\n",
       "      <th>2</th>\n",
       "      <td>4.7</td>\n",
       "      <td>3.2</td>\n",
       "      <td>1.3</td>\n",
       "      <td>0.2</td>\n",
       "      <td>Iris-setosa</td>\n",
       "    </tr>\n",
       "    <tr>\n",
       "      <th>3</th>\n",
       "      <td>4.6</td>\n",
       "      <td>3.1</td>\n",
       "      <td>1.5</td>\n",
       "      <td>0.2</td>\n",
       "      <td>Iris-setosa</td>\n",
       "    </tr>\n",
       "    <tr>\n",
       "      <th>4</th>\n",
       "      <td>5.0</td>\n",
       "      <td>3.6</td>\n",
       "      <td>1.4</td>\n",
       "      <td>0.2</td>\n",
       "      <td>Iris-setosa</td>\n",
       "    </tr>\n",
       "  </tbody>\n",
       "</table>\n",
       "</div>"
      ],
      "text/plain": [
       "   sepal_length  sepal_width  petal_length  petal_width      species\n",
       "0           5.1          3.5           1.4          0.2  Iris-setosa\n",
       "1           4.9          3.0           1.4          0.2  Iris-setosa\n",
       "2           4.7          3.2           1.3          0.2  Iris-setosa\n",
       "3           4.6          3.1           1.5          0.2  Iris-setosa\n",
       "4           5.0          3.6           1.4          0.2  Iris-setosa"
      ]
     },
     "execution_count": 10,
     "metadata": {},
     "output_type": "execute_result"
    }
   ],
   "source": [
    "iris_df.columns=['sepal_length','sepal_width','petal_length','petal_width','species']\n",
    "iris_df.head()"
   ]
  },
  {
   "cell_type": "markdown",
   "id": "f14bedb0",
   "metadata": {},
   "source": [
    "# Processing & Analysis"
   ]
  },
  {
   "cell_type": "code",
   "execution_count": 11,
   "id": "b9257196",
   "metadata": {},
   "outputs": [
    {
     "name": "stdout",
     "output_type": "stream",
     "text": [
      "Count of the species column of the dataset : \n",
      "Iris-setosa        50\n",
      "Iris-virginica     50\n",
      "Iris-versicolor    50\n",
      "Name: species, dtype: int64\n"
     ]
    }
   ],
   "source": [
    "species_counts=iris_df['species'].value_counts()\n",
    "print(\"Count of the species column of the dataset : \")\n",
    "print(species_counts)"
   ]
  },
  {
   "cell_type": "code",
   "execution_count": 12,
   "id": "4bffd8a9",
   "metadata": {},
   "outputs": [
    {
     "name": "stdout",
     "output_type": "stream",
     "text": [
      "Mean of the sepal length of each species : \n",
      "species\n",
      "Iris-setosa        5.006\n",
      "Iris-versicolor    5.936\n",
      "Iris-virginica     6.588\n",
      "Name: sepal_length, dtype: float64\n"
     ]
    }
   ],
   "source": [
    "# Calculate the mean of sepal length for each species\n",
    "mean_sepal_length=iris_df.groupby('species')['sepal_length'].mean()\n",
    "print(\"Mean of the sepal length of each species : \")\n",
    "print(mean_sepal_length)"
   ]
  },
  {
   "cell_type": "code",
   "execution_count": 13,
   "id": "33498bf8",
   "metadata": {},
   "outputs": [
    {
     "name": "stdout",
     "output_type": "stream",
     "text": [
      "Median of the petal width of each species : \n",
      "species\n",
      "Iris-setosa        0.2\n",
      "Iris-versicolor    1.3\n",
      "Iris-virginica     2.0\n",
      "Name: petal_width, dtype: float64\n"
     ]
    }
   ],
   "source": [
    "# Calculate the median of petal width for each species\n",
    "median_petal_width=iris_df.groupby('species')['petal_width'].median()\n",
    "print(\"Median of the petal width of each species : \")\n",
    "print(median_petal_width)"
   ]
  },
  {
   "cell_type": "code",
   "execution_count": 14,
   "id": "67d2eb91",
   "metadata": {},
   "outputs": [
    {
     "data": {
      "text/plain": [
       "<Figure size 504x504 with 0 Axes>"
      ]
     },
     "metadata": {},
     "output_type": "display_data"
    },
    {
     "data": {
      "image/png": "[encoded data removed]",
      "text/plain": [
       "<Figure size 823.25x720 with 20 Axes>"
      ]
     },
     "metadata": {
      "needs_background": "light"
     },
     "output_type": "display_data"
    }
   ],
   "source": [
    "plt.figure(figsize=(7,7))\n",
    "sns.pairplot(iris_df,hue='species',palette='dark')\n",
    "plt.show()"
   ]
  },
  {
   "cell_type": "code",
   "execution_count": 15,
   "id": "ddc70334",
   "metadata": {},
   "outputs": [
    {
     "data": {
      "text/plain": [
       "Iris-setosa        50\n",
       "Iris-virginica     50\n",
       "Iris-versicolor    50\n",
       "Name: species, dtype: int64"
      ]
     },
     "execution_count": 15,
     "metadata": {},
     "output_type": "execute_result"
    }
   ],
   "source": [
    "iris_df['species'].value_counts()\n"
   ]
  },
  {
   "cell_type": "code",
   "execution_count": 16,
   "id": "856a6921",
   "metadata": {},
   "outputs": [
    {
     "data": {
      "image/png": "[encoded data removed]",
      "text/plain": [
       "<Figure size 432x288 with 1 Axes>"
      ]
     },
     "metadata": {
      "needs_background": "light"
     },
     "output_type": "display_data"
    }
   ],
   "source": [
    "sns.countplot(data=iris_df,x='species',ec='black',palette='rocket')\n",
    "plt.xlabel(\"Name of the Species\")\n",
    "plt.ylabel(\"Count\")\n",
    "plt.grid(True)\n",
    "plt.show()"
   ]
  },
  {
   "cell_type": "code",
   "execution_count": 17,
   "id": "b3d6e97a",
   "metadata": {},
   "outputs": [
    {
     "data": {
      "image/png": "[encoded data removed]",
      "text/plain": [
       "<Figure size 432x288 with 1 Axes>"
      ]
     },
     "metadata": {
      "needs_background": "light"
     },
     "output_type": "display_data"
    }
   ],
   "source": [
    "# Bar Plot bw sepal length and species\n",
    "plt.bar(iris_df['species'],iris_df['sepal_length'],color='green')\n",
    "plt.title(\"Sepal length VS Species\")\n",
    "plt.xlabel(\"Name of the Species\")\n",
    "plt.ylabel(\"Sepal Length\")\n",
    "plt.grid(True)\n",
    "plt.show()"
   ]
  },
  {
   "cell_type": "code",
   "execution_count": 18,
   "id": "c35f0913",
   "metadata": {},
   "outputs": [
    {
     "data": {
      "image/png": "[encoded data removed]",
      "text/plain": [
       "<Figure size 432x288 with 1 Axes>"
      ]
     },
     "metadata": {
      "needs_background": "light"
     },
     "output_type": "display_data"
    }
   ],
   "source": [
    "# Bar plot bw sepal width and species\n",
    "plt.bar(iris_df['species'],iris_df['sepal_width'],color='orange')\n",
    "plt.title(\"Sepal Width VS Species\")\n",
    "plt.xlabel(\"Name of the Species\")\n",
    "plt.ylabel(\"Sepal Width\")\n",
    "plt.grid(True)\n",
    "plt.show()"
   ]
  },
  {
   "cell_type": "code",
   "execution_count": 19,
   "id": "2857901b",
   "metadata": {},
   "outputs": [
    {
     "data": {
      "image/png": "[encoded data removed]",
      "text/plain": [
       "<Figure size 432x288 with 1 Axes>"
      ]
     },
     "metadata": {
      "needs_background": "light"
     },
     "output_type": "display_data"
    }
   ],
   "source": [
    "# Bar plot bw petal length and species\n",
    "plt.bar(iris_df['species'],iris_df['petal_length'])\n",
    "plt.title(\"Petal Length VS Species\")\n",
    "plt.xlabel(\"Name of the Species\")\n",
    "plt.ylabel(\"Petal Length\")\n",
    "plt.grid(True)\n",
    "plt.show()"
   ]
  },
  {
   "cell_type": "code",
   "execution_count": 20,
   "id": "fa716a50",
   "metadata": {},
   "outputs": [
    {
     "data": {
      "image/png": "[encoded data removed]",
      "text/plain": [
       "<Figure size 432x288 with 1 Axes>"
      ]
     },
     "metadata": {
      "needs_background": "light"
     },
     "output_type": "display_data"
    }
   ],
   "source": [
    "# Bar plot bw petal width and species\n",
    "plt.bar(iris_df['species'],iris_df['petal_width'],color='purple')\n",
    "plt.title(\"Petal Width VS Spcies\")\n",
    "plt.xlabel(\"Name of the Species\")\n",
    "plt.ylabel(\"Petal Width\")\n",
    "plt.grid(True)\n",
    "plt.show()"
   ]
  },
  {
   "cell_type": "code",
   "execution_count": 21,
   "id": "32db3e8e",
   "metadata": {},
   "outputs": [],
   "source": [
    "from sklearn.model_selection import train_test_split\n",
    "from sklearn.linear_model import LinearRegression, LogisticRegression\n",
    "from sklearn.metrics import accuracy_score, classification_report, mean_absolute_error, mean_squared_error, r2_score \n",
    "from sklearn.preprocessing import StandardScaler\n",
    "from sklearn.svm import SVC"
   ]
  },
  {
   "cell_type": "code",
   "execution_count": 22,
   "id": "0daf8b78",
   "metadata": {},
   "outputs": [],
   "source": [
    "# Make the data X and Y\n",
    "X=iris_df.drop('species',axis=1)\n",
    "Y=iris_df['species']\n"
   ]
  },
  {
   "cell_type": "code",
   "execution_count": 23,
   "id": "d3d8076a",
   "metadata": {},
   "outputs": [
    {
     "data": {
      "text/html": [
       "<div>\n",
       "<style scoped>\n",
       "    .dataframe tbody tr th:only-of-type {\n",
       "        vertical-align: middle;\n",
       "    }\n",
       "\n",
       "    .dataframe tbody tr th {\n",
       "        vertical-align: top;\n",
       "    }\n",
       "\n",
       "    .dataframe thead th {\n",
       "        text-align: right;\n",
       "    }\n",
       "</style>\n",
       "<table border=\"1\" class=\"dataframe\">\n",
       "  <thead>\n",
       "    <tr style=\"text-align: right;\">\n",
       "      <th></th>\n",
       "      <th>sepal_length</th>\n",
       "      <th>sepal_width</th>\n",
       "      <th>petal_length</th>\n",
       "      <th>petal_width</th>\n",
       "    </tr>\n",
       "  </thead>\n",
       "  <tbody>\n",
       "    <tr>\n",
       "      <th>85</th>\n",
       "      <td>6.0</td>\n",
       "      <td>3.4</td>\n",
       "      <td>4.5</td>\n",
       "      <td>1.6</td>\n",
       "    </tr>\n",
       "    <tr>\n",
       "      <th>1</th>\n",
       "      <td>4.9</td>\n",
       "      <td>3.0</td>\n",
       "      <td>1.4</td>\n",
       "      <td>0.2</td>\n",
       "    </tr>\n",
       "    <tr>\n",
       "      <th>51</th>\n",
       "      <td>6.4</td>\n",
       "      <td>3.2</td>\n",
       "      <td>4.5</td>\n",
       "      <td>1.5</td>\n",
       "    </tr>\n",
       "    <tr>\n",
       "      <th>130</th>\n",
       "      <td>7.4</td>\n",
       "      <td>2.8</td>\n",
       "      <td>6.1</td>\n",
       "      <td>1.9</td>\n",
       "    </tr>\n",
       "    <tr>\n",
       "      <th>55</th>\n",
       "      <td>5.7</td>\n",
       "      <td>2.8</td>\n",
       "      <td>4.5</td>\n",
       "      <td>1.3</td>\n",
       "    </tr>\n",
       "  </tbody>\n",
       "</table>\n",
       "</div>"
      ],
      "text/plain": [
       "     sepal_length  sepal_width  petal_length  petal_width\n",
       "85            6.0          3.4           4.5          1.6\n",
       "1             4.9          3.0           1.4          0.2\n",
       "51            6.4          3.2           4.5          1.5\n",
       "130           7.4          2.8           6.1          1.9\n",
       "55            5.7          2.8           4.5          1.3"
      ]
     },
     "execution_count": 23,
     "metadata": {},
     "output_type": "execute_result"
    }
   ],
   "source": [
    "# Split the data into training and testing sets\n",
    "X_train,X_test,Y_train,Y_test=train_test_split(X,Y,test_size=0.24,random_state=20)\n",
    "X_train.head()"
   ]
  },
  {
   "cell_type": "code",
   "execution_count": 24,
   "id": "ad5d49e9",
   "metadata": {},
   "outputs": [
    {
     "data": {
      "text/plain": [
       "(114, 4)"
      ]
     },
     "execution_count": 24,
     "metadata": {},
     "output_type": "execute_result"
    }
   ],
   "source": [
    "X_train.shape\n"
   ]
  },
  {
   "cell_type": "code",
   "execution_count": 25,
   "id": "287ae3c9",
   "metadata": {},
   "outputs": [
    {
     "data": {
      "text/plain": [
       "pandas.core.frame.DataFrame"
      ]
     },
     "execution_count": 25,
     "metadata": {},
     "output_type": "execute_result"
    }
   ],
   "source": [
    "type(X_train)\n"
   ]
  },
  {
   "cell_type": "code",
   "execution_count": 26,
   "id": "7532ba7a",
   "metadata": {},
   "outputs": [
    {
     "data": {
      "text/html": [
       "<div>\n",
       "<style scoped>\n",
       "    .dataframe tbody tr th:only-of-type {\n",
       "        vertical-align: middle;\n",
       "    }\n",
       "\n",
       "    .dataframe tbody tr th {\n",
       "        vertical-align: top;\n",
       "    }\n",
       "\n",
       "    .dataframe thead th {\n",
       "        text-align: right;\n",
       "    }\n",
       "</style>\n",
       "<table border=\"1\" class=\"dataframe\">\n",
       "  <thead>\n",
       "    <tr style=\"text-align: right;\">\n",
       "      <th></th>\n",
       "      <th>sepal_length</th>\n",
       "      <th>sepal_width</th>\n",
       "      <th>petal_length</th>\n",
       "      <th>petal_width</th>\n",
       "    </tr>\n",
       "  </thead>\n",
       "  <tbody>\n",
       "    <tr>\n",
       "      <th>47</th>\n",
       "      <td>4.6</td>\n",
       "      <td>3.2</td>\n",
       "      <td>1.4</td>\n",
       "      <td>0.2</td>\n",
       "    </tr>\n",
       "    <tr>\n",
       "      <th>73</th>\n",
       "      <td>6.1</td>\n",
       "      <td>2.8</td>\n",
       "      <td>4.7</td>\n",
       "      <td>1.2</td>\n",
       "    </tr>\n",
       "    <tr>\n",
       "      <th>74</th>\n",
       "      <td>6.4</td>\n",
       "      <td>2.9</td>\n",
       "      <td>4.3</td>\n",
       "      <td>1.3</td>\n",
       "    </tr>\n",
       "    <tr>\n",
       "      <th>129</th>\n",
       "      <td>7.2</td>\n",
       "      <td>3.0</td>\n",
       "      <td>5.8</td>\n",
       "      <td>1.6</td>\n",
       "    </tr>\n",
       "    <tr>\n",
       "      <th>67</th>\n",
       "      <td>5.8</td>\n",
       "      <td>2.7</td>\n",
       "      <td>4.1</td>\n",
       "      <td>1.0</td>\n",
       "    </tr>\n",
       "  </tbody>\n",
       "</table>\n",
       "</div>"
      ],
      "text/plain": [
       "     sepal_length  sepal_width  petal_length  petal_width\n",
       "47            4.6          3.2           1.4          0.2\n",
       "73            6.1          2.8           4.7          1.2\n",
       "74            6.4          2.9           4.3          1.3\n",
       "129           7.2          3.0           5.8          1.6\n",
       "67            5.8          2.7           4.1          1.0"
      ]
     },
     "execution_count": 26,
     "metadata": {},
     "output_type": "execute_result"
    }
   ],
   "source": [
    "X_test.head()"
   ]
  },
  {
   "cell_type": "code",
   "execution_count": 27,
   "id": "7a512e7b",
   "metadata": {},
   "outputs": [
    {
     "data": {
      "text/plain": [
       "(36, 4)"
      ]
     },
     "execution_count": 27,
     "metadata": {},
     "output_type": "execute_result"
    }
   ],
   "source": [
    "X_test.shape\n"
   ]
  },
  {
   "cell_type": "code",
   "execution_count": 28,
   "id": "c41e41a0",
   "metadata": {},
   "outputs": [
    {
     "data": {
      "text/plain": [
       "pandas.core.frame.DataFrame"
      ]
     },
     "execution_count": 28,
     "metadata": {},
     "output_type": "execute_result"
    }
   ],
   "source": [
    "type(X_test)\n"
   ]
  },
  {
   "cell_type": "code",
   "execution_count": 29,
   "id": "069c016d",
   "metadata": {},
   "outputs": [
    {
     "data": {
      "text/plain": [
       "85     Iris-versicolor\n",
       "1          Iris-setosa\n",
       "51     Iris-versicolor\n",
       "130     Iris-virginica\n",
       "55     Iris-versicolor\n",
       "Name: species, dtype: object"
      ]
     },
     "execution_count": 29,
     "metadata": {},
     "output_type": "execute_result"
    }
   ],
   "source": [
    "Y_train.head()"
   ]
  },
  {
   "cell_type": "code",
   "execution_count": 30,
   "id": "ecacdb29",
   "metadata": {},
   "outputs": [
    {
     "data": {
      "text/plain": [
       "(114,)"
      ]
     },
     "execution_count": 30,
     "metadata": {},
     "output_type": "execute_result"
    }
   ],
   "source": [
    "Y_train.shape\n"
   ]
  },
  {
   "cell_type": "code",
   "execution_count": 31,
   "id": "7088eee7",
   "metadata": {},
   "outputs": [
    {
     "data": {
      "text/plain": [
       "pandas.core.series.Series"
      ]
     },
     "execution_count": 31,
     "metadata": {},
     "output_type": "execute_result"
    }
   ],
   "source": [
    "type(Y_train)\n"
   ]
  },
  {
   "cell_type": "code",
   "execution_count": 32,
   "id": "98b214e6",
   "metadata": {},
   "outputs": [
    {
     "data": {
      "text/plain": [
       "47         Iris-setosa\n",
       "73     Iris-versicolor\n",
       "74     Iris-versicolor\n",
       "129     Iris-virginica\n",
       "67     Iris-versicolor\n",
       "Name: species, dtype: object"
      ]
     },
     "execution_count": 32,
     "metadata": {},
     "output_type": "execute_result"
    }
   ],
   "source": [
    "Y_test.head()"
   ]
  },
  {
   "cell_type": "code",
   "execution_count": 33,
   "id": "c8ce41ef",
   "metadata": {},
   "outputs": [
    {
     "data": {
      "text/plain": [
       "(36,)"
      ]
     },
     "execution_count": 33,
     "metadata": {},
     "output_type": "execute_result"
    }
   ],
   "source": [
    "Y_test.shape\n"
   ]
  },
  {
   "cell_type": "code",
   "execution_count": 34,
   "id": "91e95569",
   "metadata": {},
   "outputs": [
    {
     "data": {
      "text/plain": [
       "pandas.core.series.Series"
      ]
     },
     "execution_count": 34,
     "metadata": {},
     "output_type": "execute_result"
    }
   ],
   "source": [
    "type(Y_test)"
   ]
  },
  {
   "cell_type": "code",
   "execution_count": 35,
   "id": "8da00543",
   "metadata": {},
   "outputs": [
    {
     "data": {
      "text/plain": [
       "array([[ 0.16782396,  0.69731669,  0.41803027,  0.49149268],\n",
       "       [-1.16414597, -0.20346634, -1.32614799, -1.315932  ],\n",
       "       [ 0.65217667,  0.24692517,  0.41803027,  0.36239091],\n",
       "       [ 1.86305843, -0.65385786,  1.31825131,  0.87879796],\n",
       "       [-0.19544056, -0.65385786,  0.41803027,  0.10418739],\n",
       "       [ 0.28891214, -1.10424937,  1.03693224,  0.23328915],\n",
       "       [-1.16414597,  0.02172942, -1.26988417, -1.44503377],\n",
       "       [ 1.01544119,  0.02172942,  0.36176646,  0.23328915],\n",
       "       [ 0.53108849,  0.47212093,  0.5305579 ,  0.49149268],\n",
       "       [-1.40632232,  0.24692517, -1.3824118 , -1.315932  ],\n",
       "       [-0.55870509,  1.82329547, -1.15735654, -1.05772848],\n",
       "       [-1.0430578 ,  0.47212093, -1.32614799, -1.315932  ],\n",
       "       [-0.19544056, -1.32944513,  0.69934935,  1.00789973],\n",
       "       [-0.92196962,  1.59809971, -1.04482891, -1.05772848],\n",
       "       [ 0.65217667, -0.65385786,  1.03693224,  1.26610325],\n",
       "       [ 0.41000031,  0.69731669,  0.92440461,  1.39520502],\n",
       "       [-0.55870509,  0.69731669, -1.26988417, -1.05772848],\n",
       "       [ 0.53108849,  0.47212093,  1.2619875 ,  1.65340854],\n",
       "       [ 0.16782396, -2.0050324 ,  0.1367112 , -0.2831179 ],\n",
       "       [-0.31652874, -0.4286621 , -0.08834406,  0.10418739],\n",
       "       [-0.31652874, -0.20346634,  0.41803027,  0.36239091],\n",
       "       [-1.64849868, -1.77983664, -1.3824118 , -1.18683024],\n",
       "       [-0.92196962,  0.69731669, -1.26988417, -1.315932  ],\n",
       "       [-0.43761692, -1.55464088,  0.02418357, -0.15401614],\n",
       "       [ 0.41000031, -0.4286621 ,  0.30550264,  0.10418739],\n",
       "       [-0.07435239, -1.10424937,  0.1367112 , -0.02491438],\n",
       "       [-0.31652874, -1.32944513,  0.08044738, -0.15401614],\n",
       "       [ 1.01544119,  0.02172942,  0.5305579 ,  0.36239091],\n",
       "       [ 0.77326484, -0.65385786,  0.47429409,  0.36239091],\n",
       "       [-0.19544056, -0.4286621 ,  0.24923883,  0.10418739],\n",
       "       [-0.92196962,  0.47212093, -1.15735654, -0.92862672],\n",
       "       [ 0.41000031, -2.0050324 ,  0.41803027,  0.36239091],\n",
       "       [ 0.53108849, -1.77983664,  0.36176646,  0.10418739],\n",
       "       [-1.16414597,  0.02172942, -1.26988417, -1.44503377],\n",
       "       [-1.76958685, -0.20346634, -1.3824118 , -1.315932  ],\n",
       "       [-0.55870509, -0.20346634,  0.41803027,  0.36239091],\n",
       "       [-0.43761692, -1.77983664,  0.1367112 ,  0.10418739],\n",
       "       [ 0.28891214, -0.20346634,  0.47429409,  0.23328915],\n",
       "       [-0.92196962,  1.59809971, -1.26988417, -1.18683024],\n",
       "       [-0.67979327,  1.37290396, -1.26988417, -1.315932  ],\n",
       "       [ 0.65217667,  0.24692517,  0.86814079,  1.39520502],\n",
       "       [-0.43761692,  0.92251244, -1.3824118 , -1.315932  ],\n",
       "       [-1.28523415,  0.02172942, -1.21362036, -1.315932  ],\n",
       "       [-1.0430578 , -2.45542391, -0.14460787, -0.2831179 ],\n",
       "       [ 0.16782396, -0.20346634,  0.58682172,  0.7496962 ],\n",
       "       [-0.07435239, -0.87905361,  0.75561316,  0.87879796],\n",
       "       [-0.31652874, -0.65385786,  0.64308553,  1.00789973],\n",
       "       [ 0.53108849, -0.4286621 ,  1.03693224,  0.7496962 ],\n",
       "       [ 0.65217667, -0.65385786,  1.03693224,  1.13700149],\n",
       "       [ 1.4997939 , -0.20346634,  1.20572368,  1.13700149],\n",
       "       [-0.07435239, -0.87905361,  0.08044738, -0.02491438],\n",
       "       [ 0.77326484, -0.20346634,  0.98066842,  0.7496962 ],\n",
       "       [ 2.22632295, -0.20346634,  1.31825131,  1.39520502],\n",
       "       [ 1.62088207,  1.1477082 ,  1.31825131,  1.65340854],\n",
       "       [-1.76958685, -0.4286621 , -1.32614799, -1.315932  ],\n",
       "       [ 1.13652937, -0.20346634,  0.98066842,  1.13700149],\n",
       "       [-0.80088144,  0.92251244, -1.26988417, -1.315932  ],\n",
       "       [-1.0430578 ,  1.1477082 , -1.32614799, -1.315932  ],\n",
       "       [-0.07435239,  2.04849123, -1.43867562, -1.315932  ],\n",
       "       [ 1.01544119, -0.20346634,  0.81187698,  1.39520502],\n",
       "       [ 1.25761755,  0.02172942,  0.64308553,  0.36239091],\n",
       "       [ 0.04673579,  0.24692517,  0.58682172,  0.7496962 ],\n",
       "       [ 1.25761755,  0.02172942,  0.92440461,  1.13700149],\n",
       "       [ 0.53108849, -0.87905361,  0.64308553,  0.7496962 ],\n",
       "       [-0.31652874, -0.87905361,  0.24923883,  0.10418739],\n",
       "       [-1.76958685,  0.24692517, -1.3824118 , -1.315932  ],\n",
       "       [ 0.28891214, -0.20346634,  0.64308553,  0.7496962 ],\n",
       "       [-0.43761692,  2.49888274, -1.32614799, -1.315932  ],\n",
       "       [-1.0430578 , -1.77983664, -0.2571355 , -0.2831179 ],\n",
       "       [ 2.22632295,  1.59809971,  1.6558342 ,  1.26610325],\n",
       "       [-1.28523415,  0.69731669, -1.04482891, -1.315932  ],\n",
       "       [ 0.16782396, -0.4286621 ,  0.41803027,  0.36239091],\n",
       "       [ 0.28891214, -0.4286621 ,  0.5305579 ,  0.23328915],\n",
       "       [ 0.41000031, -0.65385786,  0.58682172,  0.7496962 ],\n",
       "       [-1.28523415, -0.20346634, -1.32614799, -1.18683024],\n",
       "       [-1.40632232,  0.24692517, -1.21362036, -1.315932  ],\n",
       "       [ 1.62088207,  0.24692517,  1.2619875 ,  0.7496962 ],\n",
       "       [ 1.01544119,  0.47212093,  1.09319605,  1.65340854],\n",
       "       [-0.80088144, -0.87905361,  0.08044738,  0.23328915],\n",
       "       [-0.43761692, -1.10424937,  0.36176646, -0.02491438],\n",
       "       [-0.19544056, -1.10424937, -0.14460787, -0.2831179 ],\n",
       "       [ 1.01544119,  0.47212093,  1.09319605,  1.13700149],\n",
       "       [ 1.01544119,  0.02172942,  1.03693224,  1.52430678],\n",
       "       [-1.0430578 ,  0.92251244, -1.21362036, -0.79952495],\n",
       "       [ 1.25761755,  0.24692517,  1.09319605,  1.39520502],\n",
       "       [-0.92196962,  0.92251244, -1.32614799, -1.18683024],\n",
       "       [ 1.01544119, -0.20346634,  0.69934935,  0.62059444],\n",
       "       [-1.5274105 ,  0.02172942, -1.26988417, -1.315932  ],\n",
       "       [-0.19544056,  1.59809971, -1.15735654, -1.18683024],\n",
       "       [ 0.53108849, -1.32944513,  0.69934935,  0.87879796],\n",
       "       [ 0.53108849,  0.69731669,  1.03693224,  1.52430678],\n",
       "       [ 1.74197025, -0.4286621 ,  1.43077894,  0.7496962 ],\n",
       "       [-0.55870509,  1.37290396, -1.26988417, -1.315932  ],\n",
       "       [-0.80088144,  2.27368699, -1.26988417, -1.44503377],\n",
       "       [ 0.77326484,  0.24692517,  0.75561316,  1.00789973],\n",
       "       [ 0.16782396, -0.87905361,  0.75561316,  0.49149268],\n",
       "       [ 0.04673579, -0.20346634,  0.24923883,  0.36239091],\n",
       "       [ 2.4684993 ,  1.59809971,  1.48704276,  1.00789973],\n",
       "       [-1.0430578 , -0.20346634, -1.21362036, -1.315932  ],\n",
       "       [ 1.25761755,  0.02172942,  0.75561316,  1.39520502],\n",
       "       [-1.5274105 ,  0.69731669, -1.32614799, -1.18683024],\n",
       "       [-1.0430578 ,  0.69731669, -1.26988417, -1.315932  ],\n",
       "       [-0.07435239, -0.87905361,  0.75561316,  0.87879796],\n",
       "       [ 2.10523478, -0.20346634,  1.59957039,  1.13700149],\n",
       "       [-0.55870509,  1.82329547, -1.3824118 , -1.05772848],\n",
       "       [-1.0430578 ,  0.69731669, -1.21362036, -1.05772848],\n",
       "       [-1.0430578 ,  0.92251244, -1.3824118 , -1.18683024],\n",
       "       [ 2.22632295, -1.10424937,  1.76836183,  1.39520502],\n",
       "       [ 0.28891214, -0.65385786,  0.1367112 ,  0.10418739],\n",
       "       [-1.5274105 ,  1.1477082 , -1.55120325, -1.315932  ],\n",
       "       [ 0.89435302, -0.20346634,  0.36176646,  0.23328915],\n",
       "       [ 0.65217667,  0.02172942,  0.98066842,  0.7496962 ],\n",
       "       [-0.19544056,  2.94927426, -1.26988417, -1.05772848],\n",
       "       [-0.19544056, -0.65385786,  0.19297501,  0.10418739]])"
      ]
     },
     "execution_count": 35,
     "metadata": {},
     "output_type": "execute_result"
    }
   ],
   "source": [
    "# Standardized X with the help of StandardScaler\n",
    "scaler=StandardScaler()\n",
    "X_train=scaler.fit_transform(X_train)\n",
    "X_train"
   ]
  },
  {
   "cell_type": "code",
   "execution_count": 36,
   "id": "29813214",
   "metadata": {},
   "outputs": [
    {
     "data": {
      "text/plain": [
       "(114, 4)"
      ]
     },
     "execution_count": 36,
     "metadata": {},
     "output_type": "execute_result"
    }
   ],
   "source": [
    "X_train.shape\n"
   ]
  },
  {
   "cell_type": "code",
   "execution_count": 37,
   "id": "33795146",
   "metadata": {},
   "outputs": [
    {
     "data": {
      "text/plain": [
       "numpy.ndarray"
      ]
     },
     "execution_count": 37,
     "metadata": {},
     "output_type": "execute_result"
    }
   ],
   "source": [
    "type(X_train)\n"
   ]
  },
  {
   "cell_type": "code",
   "execution_count": 38,
   "id": "f4c404a1",
   "metadata": {},
   "outputs": [
    {
     "data": {
      "text/plain": [
       "array([[-1.44478718,  0.70734698, -1.39251151, -1.31338208],\n",
       "       [ 0.38234415, -0.37624839,  0.5514411 ,  0.09381301],\n",
       "       [ 0.74777041, -0.10534955,  0.31581048,  0.23453251],\n",
       "       [ 1.72224045,  0.16554929,  1.1994253 ,  0.65669104],\n",
       "       [ 0.01691788, -0.64714724,  0.19799517, -0.18762601],\n",
       "       [-0.34850838, -1.18894492,  0.13908752,  0.23453251],\n",
       "       [ 1.23500543,  0.70734698,  1.25833296,  1.6417276 ],\n",
       "       [-0.8357434 ,  2.0618412 , -1.33360385, -1.03194307],\n",
       "       [ 1.11319668, -1.18894492,  1.1994253 ,  0.93813006],\n",
       "       [-1.20116967,  0.16554929, -1.39251151, -1.45410159],\n",
       "       [ 0.86957917,  0.16554929,  0.84597938,  1.21956908],\n",
       "       [ 1.23500543, -0.37624839,  0.61034876,  0.37525202],\n",
       "       [ 0.26053539, -2.00164146,  0.72816407,  0.51597153],\n",
       "       [-0.95755216,  0.70734698, -1.51032681, -1.31338208],\n",
       "       [-0.71393465,  1.24914467, -1.39251151, -1.31338208],\n",
       "       [ 2.33128423, -0.37624839,  1.7295942 ,  1.21956908],\n",
       "       [-1.81021344,  0.16554929, -1.56923447, -1.45410159],\n",
       "       [ 0.99138792, -0.10534955,  0.49253345,  0.23453251],\n",
       "       [ 0.01691788, -0.37624839,  0.78707172,  1.78244711],\n",
       "       [-1.07936091, -1.45984377, -0.27326607, -0.18762601],\n",
       "       [ 1.47862294,  0.70734698,  0.5514411 ,  0.37525202],\n",
       "       [ 0.13872664,  0.16554929,  0.78707172,  0.93813006],\n",
       "       [ 0.74777041, -0.64714724,  0.90488703,  1.07884957],\n",
       "       [-0.47031714,  1.24914467, -1.21578854, -1.31338208],\n",
       "       [ 0.62596166, -1.18894492,  0.66925641,  0.51597153],\n",
       "       [-0.34850838, -1.45984377, -0.03763545, -0.18762601],\n",
       "       [-0.8357434 , -1.18894492, -0.44998903, -0.0469065 ],\n",
       "       [-1.07936091,  0.43644814, -1.33360385, -1.45410159],\n",
       "       [ 0.86957917,  0.16554929,  1.1994253 ,  1.5010081 ],\n",
       "       [ 0.62596166, -0.37624839,  0.78707172,  0.51597153],\n",
       "       [-0.10489087,  0.16554929,  0.25690283,  0.09381301],\n",
       "       [-0.22669963,  0.16554929,  0.19799517,  0.23453251],\n",
       "       [-0.8357434 ,  1.52004351, -1.39251151, -1.31338208],\n",
       "       [-0.8357434 ,  2.33274004, -1.2746962 , -1.31338208],\n",
       "       [-1.20116967,  1.24914467, -1.2746962 , -1.31338208],\n",
       "       [-1.07936091, -1.18894492,  0.43362579,  0.79741055]])"
      ]
     },
     "execution_count": 38,
     "metadata": {},
     "output_type": "execute_result"
    }
   ],
   "source": [
    "X_test=scaler.fit_transform(X_test)\n",
    "X_test"
   ]
  },
  {
   "cell_type": "code",
   "execution_count": 39,
   "id": "e88ad725",
   "metadata": {},
   "outputs": [
    {
     "data": {
      "text/plain": [
       "(36, 4)"
      ]
     },
     "execution_count": 39,
     "metadata": {},
     "output_type": "execute_result"
    }
   ],
   "source": [
    "X_test.shape\n"
   ]
  },
  {
   "cell_type": "code",
   "execution_count": 40,
   "id": "c5347279",
   "metadata": {},
   "outputs": [
    {
     "data": {
      "text/plain": [
       "numpy.ndarray"
      ]
     },
     "execution_count": 40,
     "metadata": {},
     "output_type": "execute_result"
    }
   ],
   "source": [
    "type(X_train)\n"
   ]
  },
  {
   "cell_type": "code",
   "execution_count": 41,
   "id": "64977cef",
   "metadata": {},
   "outputs": [
    {
     "name": "stdout",
     "output_type": "stream",
     "text": [
      "(114, 4)\n",
      "(36, 4)\n",
      "(36,)\n",
      "(114,)\n"
     ]
    }
   ],
   "source": [
    "print(X_train.shape)\n",
    "print(X_test.shape)\n",
    "print(Y_test.shape)\n",
    "print(Y_train.shape)"
   ]
  },
  {
   "cell_type": "code",
   "execution_count": 42,
   "id": "bd4a2fbb",
   "metadata": {},
   "outputs": [
    {
     "data": {
      "text/plain": [
       "LogisticRegression()"
      ]
     },
     "execution_count": 42,
     "metadata": {},
     "output_type": "execute_result"
    }
   ],
   "source": [
    "# Creating a logestic regression model\n",
    "model=LogisticRegression()\n",
    "model.fit(X_train,Y_train)"
   ]
  },
  {
   "cell_type": "code",
   "execution_count": 43,
   "id": "3de9e3d9",
   "metadata": {},
   "outputs": [
    {
     "data": {
      "text/plain": [
       "array(['Iris-setosa', 'Iris-versicolor', 'Iris-versicolor',\n",
       "       'Iris-virginica', 'Iris-versicolor', 'Iris-versicolor',\n",
       "       'Iris-virginica', 'Iris-setosa', 'Iris-virginica', 'Iris-setosa',\n",
       "       'Iris-virginica', 'Iris-versicolor', 'Iris-virginica',\n",
       "       'Iris-setosa', 'Iris-setosa', 'Iris-virginica', 'Iris-setosa',\n",
       "       'Iris-versicolor', 'Iris-virginica', 'Iris-versicolor',\n",
       "       'Iris-versicolor', 'Iris-virginica', 'Iris-virginica',\n",
       "       'Iris-setosa', 'Iris-versicolor', 'Iris-versicolor',\n",
       "       'Iris-versicolor', 'Iris-setosa', 'Iris-virginica',\n",
       "       'Iris-versicolor', 'Iris-versicolor', 'Iris-versicolor',\n",
       "       'Iris-setosa', 'Iris-setosa', 'Iris-setosa', 'Iris-versicolor'],\n",
       "      dtype=object)"
      ]
     },
     "execution_count": 43,
     "metadata": {},
     "output_type": "execute_result"
    }
   ],
   "source": [
    "# Prediction\n",
    "y_pred=model.predict(X_test)\n",
    "y_pred"
   ]
  },
  {
   "cell_type": "code",
   "execution_count": 44,
   "id": "a588c933",
   "metadata": {},
   "outputs": [
    {
     "name": "stdout",
     "output_type": "stream",
     "text": [
      "(36, 4)\n",
      "(36,)\n"
     ]
    }
   ],
   "source": [
    "print(X_test.shape)\n",
    "print(y_pred.shape)"
   ]
  },
  {
   "cell_type": "code",
   "execution_count": 45,
   "id": "ba0065ff",
   "metadata": {},
   "outputs": [
    {
     "name": "stdout",
     "output_type": "stream",
     "text": [
      "The training accuracy is 0.9736842105263158\n"
     ]
    }
   ],
   "source": [
    "# Training accuracy\n",
    "train_accuracy=model.score(X_train,Y_train)\n",
    "print(\"The training accuracy is\",train_accuracy)"
   ]
  },
  {
   "cell_type": "code",
   "execution_count": 46,
   "id": "fbca9fd2",
   "metadata": {},
   "outputs": [
    {
     "name": "stdout",
     "output_type": "stream",
     "text": [
      "The testing accuracy is 0.9444444444444444\n"
     ]
    }
   ],
   "source": [
    "# Test accuracy\n",
    "test_accuracy=model.score(X_test,Y_test)\n",
    "print(\"The testing accuracy is\",test_accuracy)"
   ]
  },
  {
   "cell_type": "markdown",
   "id": "a0bcf310",
   "metadata": {},
   "source": [
    "# Conclusion"
   ]
  },
  {
   "cell_type": "markdown",
   "id": "cd6b0868",
   "metadata": {},
   "source": [
    "The testing accuracy is 1.0 which is higher than training accuracy.This suggests that model will make accurate prediction on new sample.\n",
    "The training accuarcy is 0.97 which is slightly less than testing accuracy.This indicates that the model fit the training data quite well.\n",
    "Overall model exhibits high accuracy on both the training and testing data, which is a positive outcome."
   ]
  }
 ],
 "metadata": {
  "kernelspec": {
   "display_name": "Python 3",
   "language": "python",
   "name": "python3"
  },
  "language_info": {
   "codemirror_mode": {
    "name": "ipython",
    "version": 3
   },
   "file_extension": ".py",
   "mimetype": "text/x-python",
   "name": "python",
   "nbconvert_exporter": "python",
   "pygments_lexer": "ipython3",
   "version": "3.8.8"
  }
 },
 "nbformat": 4,
 "nbformat_minor": 5
}
